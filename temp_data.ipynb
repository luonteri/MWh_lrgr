{
 "cells": [
  {
   "cell_type": "markdown",
   "metadata": {},
   "source": [
    "### Aikasarjaharjoitustyö datojen poiminta ja yhdistäminen.  \n",
    "Tässä tiedostossa Käsitellään ilmatieteenlaitoksen data, niin, että sitä voidaan käyttää lineaarisen regression tai muiden algoritmien kanssa."
   ]
  },
  {
   "cell_type": "markdown",
   "metadata": {},
   "source": [
    "### Tuodaan datan käsittelyssä ja kuvantamisessa tarvittavat kirjastot. "
   ]
  },
  {
   "cell_type": "code",
   "execution_count": 13,
   "metadata": {},
   "outputs": [],
   "source": [
    "import numpy as np\n",
    "import pandas as pd\n",
    "\n",
    "import warnings\n",
    "warnings.filterwarnings(\"ignore\", category=FutureWarning)\n",
    "warnings.filterwarnings(\"ignore\", category=DeprecationWarning)"
   ]
  },
  {
   "cell_type": "markdown",
   "metadata": {},
   "source": [
    "### Säädatan lataus, sarakkeiden poiminta ja datan tarkastelu sekä käsittely"
   ]
  },
  {
   "cell_type": "markdown",
   "metadata": {},
   "source": [
    "Ladataan tiedot dataframeen. Käytetään materiaalina toisessa yhteydessä hyödynnettyä viinidataa. Muunnetaan ilmatieteenlaitoksen tarjoama aikamuoto formaattiin vvvv-kk-pp tt:mm. Dropataan turhat sarakkeet ja vaihdetaan sarakejärjestys."
   ]
  },
  {
   "cell_type": "code",
   "execution_count": 14,
   "metadata": {},
   "outputs": [
    {
     "name": "stdout",
     "output_type": "stream",
     "text": [
      "                 DS     C wind     hPa moist% Wperm2\n",
      "0  2019-05-23 00:00  16.4  2.5  1007.1     82   -4.8\n",
      "1  2019-05-23 01:00  15.6  2.1  1007.1     83   -5.2\n",
      "2  2019-05-23 02:00  14.8  3.4  1007.6     90   -4.8\n",
      "3  2019-05-23 03:00  14.8  4.5  1007.8     96   -3.7\n",
      "4  2019-05-23 04:00  14.8  4.9    1008     97   -2.9\n"
     ]
    }
   ],
   "source": [
    "df = pd.read_excel('Temp_data.xlsx')\n",
    "df = df.rename(columns={'Keskituulen nopeus [m/s]':'wind','Lämpötilan keskiarvo [°C]':'C','Aika [Paikallinen aika]':'Aika','[W/m2]':'Wperm2'}) #Muunnetaan sarakkeiden nimet\n",
    "\n",
    "df['DS'] = df['Vuosi'].astype(str) + '-' + df['Kuukausi'].astype(str).str.zfill(2) + '-' + df['Päivä'].astype(str).str.zfill(2) + ' ' + df['Aika'] #Tehdään aikamuunnos\n",
    "df=df.drop(['Havaintoasema','Vuosi','Kuukausi','Päivä','Aika','Ylin lämpötila [°C]','Alin lämpötila [°C]'], axis=1) #Dropataan turhat sarakkeet\n",
    "\n",
    "df_C = df.loc[:, ['DS', 'C','wind','hPa','moist%','Wperm2']] # Vaihdetaan sarakejärjestys\n",
    "print(df_C.head())"
   ]
  },
  {
   "cell_type": "markdown",
   "metadata": {},
   "source": [
    "Katsotaan sarakkeiden datatyypit."
   ]
  },
  {
   "cell_type": "code",
   "execution_count": 15,
   "metadata": {},
   "outputs": [
    {
     "name": "stdout",
     "output_type": "stream",
     "text": [
      "DS        object\n",
      "C         object\n",
      "wind      object\n",
      "hPa       object\n",
      "moist%    object\n",
      "Wperm2    object\n",
      "dtype: object\n"
     ]
    }
   ],
   "source": [
    "print(df_C.dtypes)"
   ]
  },
  {
   "cell_type": "markdown",
   "metadata": {},
   "source": [
    "Tehdään datatyyppien muunnokset."
   ]
  },
  {
   "cell_type": "code",
   "execution_count": 16,
   "metadata": {},
   "outputs": [
    {
     "name": "stdout",
     "output_type": "stream",
     "text": [
      "<class 'pandas.core.frame.DataFrame'>\n",
      "RangeIndex: 41104 entries, 0 to 41103\n",
      "Data columns (total 6 columns):\n",
      " #   Column  Non-Null Count  Dtype \n",
      "---  ------  --------------  ----- \n",
      " 0   DS      41104 non-null  object\n",
      " 1   C       41104 non-null  object\n",
      " 2   wind    41104 non-null  object\n",
      " 3   hPa     41089 non-null  object\n",
      " 4   moist%  41089 non-null  object\n",
      " 5   Wperm2  41089 non-null  object\n",
      "dtypes: object(6)\n",
      "memory usage: 1.9+ MB\n",
      "None\n"
     ]
    }
   ],
   "source": [
    "df_C['DS'] = pd.to_datetime(df_C['DS'])\n",
    "df_C['DS'] = df_C['DS'].dt.strftime('%Y-%m-%d %H:%M')\n",
    "print(df_C.info())"
   ]
  },
  {
   "cell_type": "markdown",
   "metadata": {},
   "source": [
    "Edellä olevat voidaan myös todentaa tarkastelemalla muutujien tilastollisia tietoja. Jokaisella muuttujalla on variaatiota. (std <> 0 )"
   ]
  },
  {
   "cell_type": "code",
   "execution_count": 17,
   "metadata": {},
   "outputs": [
    {
     "data": {
      "text/html": [
       "<div>\n",
       "<style scoped>\n",
       "    .dataframe tbody tr th:only-of-type {\n",
       "        vertical-align: middle;\n",
       "    }\n",
       "\n",
       "    .dataframe tbody tr th {\n",
       "        vertical-align: top;\n",
       "    }\n",
       "\n",
       "    .dataframe thead th {\n",
       "        text-align: right;\n",
       "    }\n",
       "</style>\n",
       "<table border=\"1\" class=\"dataframe\">\n",
       "  <thead>\n",
       "    <tr style=\"text-align: right;\">\n",
       "      <th></th>\n",
       "      <th>DS</th>\n",
       "      <th>C</th>\n",
       "      <th>wind</th>\n",
       "      <th>hPa</th>\n",
       "      <th>moist%</th>\n",
       "      <th>Wperm2</th>\n",
       "    </tr>\n",
       "  </thead>\n",
       "  <tbody>\n",
       "    <tr>\n",
       "      <th>count</th>\n",
       "      <td>41104</td>\n",
       "      <td>41104.0</td>\n",
       "      <td>41104.0</td>\n",
       "      <td>41089.0</td>\n",
       "      <td>41089</td>\n",
       "      <td>41089.0</td>\n",
       "    </tr>\n",
       "    <tr>\n",
       "      <th>unique</th>\n",
       "      <td>41099</td>\n",
       "      <td>573.0</td>\n",
       "      <td>141.0</td>\n",
       "      <td>779.0</td>\n",
       "      <td>85</td>\n",
       "      <td>6506.0</td>\n",
       "    </tr>\n",
       "    <tr>\n",
       "      <th>top</th>\n",
       "      <td>2020-10-25 03:00</td>\n",
       "      <td>0.3</td>\n",
       "      <td>3.5</td>\n",
       "      <td>1016.5</td>\n",
       "      <td>100</td>\n",
       "      <td>-0.5</td>\n",
       "    </tr>\n",
       "    <tr>\n",
       "      <th>freq</th>\n",
       "      <td>2</td>\n",
       "      <td>279.0</td>\n",
       "      <td>841.0</td>\n",
       "      <td>202.0</td>\n",
       "      <td>3060</td>\n",
       "      <td>1090.0</td>\n",
       "    </tr>\n",
       "  </tbody>\n",
       "</table>\n",
       "</div>"
      ],
      "text/plain": [
       "                      DS        C     wind      hPa  moist%   Wperm2\n",
       "count              41104  41104.0  41104.0  41089.0   41089  41089.0\n",
       "unique             41099    573.0    141.0    779.0      85   6506.0\n",
       "top     2020-10-25 03:00      0.3      3.5   1016.5     100     -0.5\n",
       "freq                   2    279.0    841.0    202.0    3060   1090.0"
      ]
     },
     "execution_count": 17,
     "metadata": {},
     "output_type": "execute_result"
    }
   ],
   "source": [
    "df_C.describe()"
   ]
  },
  {
   "cell_type": "markdown",
   "metadata": {},
   "source": [
    "Datassa sarakkeessa DS näyttää olevan duplikaatteja huolimatta siitä, että näin ei pitäisi olla. Tarkastetaan, mistä on kyse. Katsotaan mitä ne ovat."
   ]
  },
  {
   "cell_type": "code",
   "execution_count": 18,
   "metadata": {},
   "outputs": [
    {
     "name": "stdout",
     "output_type": "stream",
     "text": [
      "Duplicate values in column 'DS':\n",
      "                     DS    C wind     hPa moist% Wperm2\n",
      "3765   2019-10-27 03:00  3.6  3.9  1001.1    100   -1.6\n",
      "3766   2019-10-27 03:00  2.9  3.4  1001.1    100   -1.6\n",
      "12485  2020-10-25 03:00    3  3.1  1005.9     96     -1\n",
      "12486  2020-10-25 03:00    3  2.8  1005.9     96     -1\n",
      "21362  2021-10-31 03:00  8.8  2.8  1013.2     87   -0.4\n",
      "21363  2021-10-31 03:00  8.8  2.4  1013.2     87   -0.4\n",
      "30097  2022-10-30 03:00  5.5  7.7  1003.6     67   -3.1\n",
      "30098  2022-10-30 03:00  5.3  6.7  1003.6     67   -3.1\n",
      "38827  2023-10-29 03:00 -1.8  2.3  1007.2     67   -0.5\n",
      "38828  2023-10-29 03:00 -1.8  2.5  1007.2     67   -0.5\n"
     ]
    }
   ],
   "source": [
    "duplicate_values = df_C[df_C.duplicated(subset=['DS'], keep=False)]\n",
    "\n",
    "print(\"Duplicate values in column 'DS':\")\n",
    "print(duplicate_values)"
   ]
  },
  {
   "cell_type": "markdown",
   "metadata": {},
   "source": [
    "Duplikaatit näyttävät aiheutuvan kellojen siirrosta. Lienee järkevää poistaa niistä toinen. "
   ]
  },
  {
   "cell_type": "code",
   "execution_count": 19,
   "metadata": {},
   "outputs": [],
   "source": [
    "df_C.drop_duplicates(subset=['DS'], keep='first', inplace=True)"
   ]
  },
  {
   "cell_type": "markdown",
   "metadata": {},
   "source": [
    "Lämpötiladata näyttää olevan on OK. "
   ]
  },
  {
   "cell_type": "code",
   "execution_count": 23,
   "metadata": {},
   "outputs": [],
   "source": [
    "df_C.to_excel('C.xlsx', index=False) #Viedään käsitelty data tiedostoon, Kokeilumielessä haluan käyttää xlsx tiedostoja, vaikka niiden käsittely on tehottomampaa."
   ]
  }
 ],
 "metadata": {
  "kernelspec": {
   "display_name": "base",
   "language": "python",
   "name": "python3"
  },
  "language_info": {
   "codemirror_mode": {
    "name": "ipython",
    "version": 3
   },
   "file_extension": ".py",
   "mimetype": "text/x-python",
   "name": "python",
   "nbconvert_exporter": "python",
   "pygments_lexer": "ipython3",
   "version": "3.11.5"
  }
 },
 "nbformat": 4,
 "nbformat_minor": 4
}
