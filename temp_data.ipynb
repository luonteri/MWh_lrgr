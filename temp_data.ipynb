{
 "cells": [
  {
   "cell_type": "markdown",
   "metadata": {},
   "source": [
    "### Aikasarjaharjoitustyö datojen poiminta ja yhdistäminen.  \n",
    "Tässä tiedostossa Käsitellään ilmatieteenlaitoksen data, niin, että sitä voidaan käyttää lineaarisen regression tai muiden algoritmien kanssa."
   ]
  },
  {
   "cell_type": "markdown",
   "metadata": {},
   "source": [
    "### Tuodaan datan käsittelyssä ja kuvantamisessa tarvittavat kirjastot. "
   ]
  },
  {
   "cell_type": "code",
   "execution_count": 14,
   "metadata": {},
   "outputs": [],
   "source": [
    "import numpy as np\n",
    "import pandas as pd\n",
    "\n",
    "import warnings\n",
    "warnings.filterwarnings(\"ignore\", category=FutureWarning)\n",
    "warnings.filterwarnings(\"ignore\", category=DeprecationWarning)"
   ]
  },
  {
   "cell_type": "markdown",
   "metadata": {},
   "source": [
    "### Säädatan lataus, sarakkeiden poiminta ja datan tarkastelu sekä käsittely"
   ]
  },
  {
   "cell_type": "markdown",
   "metadata": {},
   "source": [
    "Ladataan tiedot dataframeen. Käytetään materiaalina toisessa yhteydessä hyödynnettyä viinidataa. Muunnetaan ilmatieteenlaitoksen tarjoama aikamuoto formaattiin vvvv-kk-pp tt:mm. Dropataan turhat sarakkeet ja vaihdetaan sarakejärjestys."
   ]
  },
  {
   "cell_type": "code",
   "execution_count": 15,
   "metadata": {},
   "outputs": [
    {
     "name": "stdout",
     "output_type": "stream",
     "text": [
      "                 DS     C wind     hPa moist% Wperm2\n",
      "0  2019-05-23 00:00  16.4  2.5  1007.1     82   -4.8\n",
      "1  2019-05-23 01:00  15.6  2.1  1007.1     83   -5.2\n",
      "2  2019-05-23 02:00  14.8  3.4  1007.6     90   -4.8\n",
      "3  2019-05-23 03:00  14.8  4.5  1007.8     96   -3.7\n",
      "4  2019-05-23 04:00  14.8  4.9    1008     97   -2.9\n"
     ]
    }
   ],
   "source": [
    "df = pd.read_excel('Temp_data.xlsx')\n",
    "df = df.rename(columns={'Keskituulen nopeus [m/s]':'wind','Lämpötilan keskiarvo [°C]':'C','Aika [Paikallinen aika]':'Aika','[W/m2]':'Wperm2'}) #Muunnetaan sarakkeiden nimet\n",
    "\n",
    "df['DS'] = df['Vuosi'].astype(str) + '-' + df['Kuukausi'].astype(str).str.zfill(2) + '-' + df['Päivä'].astype(str).str.zfill(2) + ' ' + df['Aika'] #Tehdään aikamuunnos\n",
    "df=df.drop(['Havaintoasema','Vuosi','Kuukausi','Päivä','Aika','Ylin lämpötila [°C]','Alin lämpötila [°C]'], axis=1) #Dropataan turhat sarakkeet\n",
    "\n",
    "df_C = df.loc[:, ['DS', 'C','wind','hPa','moist%','Wperm2']] # Vaihdetaan sarakejärjestys\n",
    "print(df_C.head())"
   ]
  },
  {
   "cell_type": "markdown",
   "metadata": {},
   "source": [
    "Tarkastetaan missä muodossa sarakkeiden data on."
   ]
  },
  {
   "cell_type": "code",
   "execution_count": 16,
   "metadata": {},
   "outputs": [
    {
     "name": "stdout",
     "output_type": "stream",
     "text": [
      "DS        object\n",
      "C         object\n",
      "wind      object\n",
      "hPa       object\n",
      "moist%    object\n",
      "Wperm2    object\n",
      "dtype: object\n"
     ]
    }
   ],
   "source": [
    "print(df_C.dtypes)\n"
   ]
  },
  {
   "cell_type": "markdown",
   "metadata": {},
   "source": [
    "Tehdään datatyyppien muunnokset."
   ]
  },
  {
   "cell_type": "code",
   "execution_count": 17,
   "metadata": {},
   "outputs": [
    {
     "name": "stdout",
     "output_type": "stream",
     "text": [
      "                     DS     C wind     hPa moist% Wperm2\n",
      "0      2019-05-23 00:00  16.4  2.5  1007.1     82   -4.8\n",
      "1      2019-05-23 01:00  15.6  2.1  1007.1     83   -5.2\n",
      "2      2019-05-23 02:00  14.8  3.4  1007.6     90   -4.8\n",
      "3      2019-05-23 03:00  14.8  4.5  1007.8     96   -3.7\n",
      "4      2019-05-23 04:00  14.8  4.9    1008     97   -2.9\n",
      "...                 ...   ...  ...     ...    ...    ...\n",
      "41099  2024-01-31 19:00   1.4  4.6  1007.5    100   -0.4\n",
      "41100  2024-01-31 20:00   1.7  6.6  1006.3    100   -0.3\n",
      "41101  2024-01-31 21:00   1.6  8.9  1005.1     98   -0.8\n",
      "41102  2024-01-31 22:00   1.2  7.7    1004     90   -0.3\n",
      "41103  2024-01-31 23:00     1  7.2  1002.9     91   -0.4\n",
      "\n",
      "[41104 rows x 6 columns]\n"
     ]
    }
   ],
   "source": [
    "df_C['DS'] = pd.to_datetime(df_C['DS'])\n",
    "df_C['DS'] = df_C['DS'].dt.strftime('%Y-%m-%d %H:%M')\n",
    "df_C.to_excel('C.xlsx', index=False)\n",
    "print(df_C)"
   ]
  },
  {
   "cell_type": "markdown",
   "metadata": {},
   "source": []
  },
  {
   "cell_type": "markdown",
   "metadata": {},
   "source": [
    "Edellä olevat voidaan myös todentaa tarkastelemalla muutujien tilastollisia tietoja. Jokaisella muuttujalla on variaatiota. (std <> 0 )"
   ]
  },
  {
   "cell_type": "code",
   "execution_count": 18,
   "metadata": {},
   "outputs": [
    {
     "data": {
      "text/html": [
       "<div>\n",
       "<style scoped>\n",
       "    .dataframe tbody tr th:only-of-type {\n",
       "        vertical-align: middle;\n",
       "    }\n",
       "\n",
       "    .dataframe tbody tr th {\n",
       "        vertical-align: top;\n",
       "    }\n",
       "\n",
       "    .dataframe thead th {\n",
       "        text-align: right;\n",
       "    }\n",
       "</style>\n",
       "<table border=\"1\" class=\"dataframe\">\n",
       "  <thead>\n",
       "    <tr style=\"text-align: right;\">\n",
       "      <th></th>\n",
       "      <th>DS</th>\n",
       "      <th>C</th>\n",
       "      <th>wind</th>\n",
       "      <th>hPa</th>\n",
       "      <th>moist%</th>\n",
       "      <th>Wperm2</th>\n",
       "    </tr>\n",
       "  </thead>\n",
       "  <tbody>\n",
       "    <tr>\n",
       "      <th>count</th>\n",
       "      <td>41104</td>\n",
       "      <td>41104.0</td>\n",
       "      <td>41104.0</td>\n",
       "      <td>41089.0</td>\n",
       "      <td>41089</td>\n",
       "      <td>41089.0</td>\n",
       "    </tr>\n",
       "    <tr>\n",
       "      <th>unique</th>\n",
       "      <td>41099</td>\n",
       "      <td>573.0</td>\n",
       "      <td>141.0</td>\n",
       "      <td>779.0</td>\n",
       "      <td>85</td>\n",
       "      <td>6506.0</td>\n",
       "    </tr>\n",
       "    <tr>\n",
       "      <th>top</th>\n",
       "      <td>2020-10-25 03:00</td>\n",
       "      <td>0.3</td>\n",
       "      <td>3.5</td>\n",
       "      <td>1016.5</td>\n",
       "      <td>100</td>\n",
       "      <td>-0.5</td>\n",
       "    </tr>\n",
       "    <tr>\n",
       "      <th>freq</th>\n",
       "      <td>2</td>\n",
       "      <td>279.0</td>\n",
       "      <td>841.0</td>\n",
       "      <td>202.0</td>\n",
       "      <td>3060</td>\n",
       "      <td>1090.0</td>\n",
       "    </tr>\n",
       "  </tbody>\n",
       "</table>\n",
       "</div>"
      ],
      "text/plain": [
       "                      DS        C     wind      hPa  moist%   Wperm2\n",
       "count              41104  41104.0  41104.0  41089.0   41089  41089.0\n",
       "unique             41099    573.0    141.0    779.0      85   6506.0\n",
       "top     2020-10-25 03:00      0.3      3.5   1016.5     100     -0.5\n",
       "freq                   2    279.0    841.0    202.0    3060   1090.0"
      ]
     },
     "execution_count": 18,
     "metadata": {},
     "output_type": "execute_result"
    }
   ],
   "source": [
    "df_C.describe()"
   ]
  },
  {
   "cell_type": "markdown",
   "metadata": {},
   "source": [
    "Lämpötiladata näyttää olevan on OK. "
   ]
  }
 ],
 "metadata": {
  "kernelspec": {
   "display_name": "base",
   "language": "python",
   "name": "python3"
  },
  "language_info": {
   "codemirror_mode": {
    "name": "ipython",
    "version": 3
   },
   "file_extension": ".py",
   "mimetype": "text/x-python",
   "name": "python",
   "nbconvert_exporter": "python",
   "pygments_lexer": "ipython3",
   "version": "3.11.5"
  }
 },
 "nbformat": 4,
 "nbformat_minor": 4
}
