{
 "cells": [
  {
   "cell_type": "markdown",
   "metadata": {},
   "source": [
    "### Aikasarjaharjoitustyö datojen poiminta ja yhdistäminen.  \n",
    "Tässä tiedostossa Käsitellään ilmatieteenlaitoksen data, niin, että sitä voidaan käyttää lineaarisen regression tai muiden algoritmien kanssa."
   ]
  },
  {
   "cell_type": "markdown",
   "metadata": {},
   "source": [
    "### Tuodaan datan käsittelyssä ja kuvantamisessa tarvittavat kirjastot. "
   ]
  },
  {
   "cell_type": "code",
   "execution_count": 2,
   "metadata": {},
   "outputs": [],
   "source": [
    "import numpy as np\n",
    "import pandas as pd\n",
    "\n",
    "import warnings\n",
    "warnings.filterwarnings(\"ignore\", category=FutureWarning)\n",
    "warnings.filterwarnings(\"ignore\", category=DeprecationWarning)"
   ]
  },
  {
   "cell_type": "markdown",
   "metadata": {},
   "source": [
    "### Säädatan lataus, sarakkeiden poiminta ja datan tarkastelu sekä käsittely"
   ]
  },
  {
   "cell_type": "markdown",
   "metadata": {},
   "source": [
    "Ladataan tiedot dataframeen. Käytetään materiaalina toisessa yhteydessä hyödynnettyä viinidataa. Muunnetaan ilmatieteenlaitoksen tarjoama aikamuoto formaattiin vvvv-kk-pp tt:mm. Dropataan turhat sarakkeet ja vaihdetaan sarakejärjestys."
   ]
  },
  {
   "cell_type": "code",
   "execution_count": 34,
   "metadata": {},
   "outputs": [
    {
     "name": "stdout",
     "output_type": "stream",
     "text": [
      "                 DS     C wind\n",
      "0  2019-05-23 00:00  16.4  2.5\n",
      "1  2019-05-23 01:00  15.6  2.1\n",
      "2  2019-05-23 02:00  14.8  3.4\n",
      "3  2019-05-23 03:00  14.8  4.5\n",
      "4  2019-05-23 04:00  14.8  4.9\n"
     ]
    }
   ],
   "source": [
    "df = pd.read_excel('Temp_data.xlsx')\n",
    "\n",
    "df = df.rename(columns={'Keskituulen nopeus [m/s]':'wind','Lämpötilan keskiarvo [°C]':'C','Aika [Paikallinen aika]':'Aika'}) #Muunnetaan sarakkeiden nimet\n",
    "df['DS'] = df['Vuosi'].astype(str) + '-' + df['Kuukausi'].astype(str).str.zfill(2) + '-' + df['Päivä'].astype(str).str.zfill(2) + ' ' + df['Aika'] #Tehdään aikamuunnos\n",
    "df=df.drop(['Havaintoasema','Vuosi','Kuukausi','Päivä','Aika','Ylin lämpötila [°C]','Alin lämpötila [°C]'], axis=1) #Dropataan turhat sarakkeet\n",
    "\n",
    "df_C = df.loc[:, ['DS', 'C','wind']] # Vaihdetaan sarakejärjestys\n",
    "print(df_C.head())"
   ]
  },
  {
   "cell_type": "markdown",
   "metadata": {},
   "source": [
    "Tarkastetaan missä muodossa sarakkeiden data on."
   ]
  },
  {
   "cell_type": "code",
   "execution_count": 35,
   "metadata": {},
   "outputs": [
    {
     "name": "stdout",
     "output_type": "stream",
     "text": [
      "DS      object\n",
      "C       object\n",
      "wind    object\n",
      "dtype: object\n"
     ]
    }
   ],
   "source": [
    "print(df_C.dtypes)\n"
   ]
  },
  {
   "cell_type": "markdown",
   "metadata": {},
   "source": [
    "Tehdään datatyyppien muunnokset."
   ]
  },
  {
   "cell_type": "code",
   "execution_count": 38,
   "metadata": {},
   "outputs": [
    {
     "name": "stdout",
     "output_type": "stream",
     "text": [
      "                     DS     C wind\n",
      "0      2019-05-23 00:00  16.4  2.5\n",
      "1      2019-05-23 01:00  15.6  2.1\n",
      "2      2019-05-23 02:00  14.8  3.4\n",
      "3      2019-05-23 03:00  14.8  4.5\n",
      "4      2019-05-23 04:00  14.8  4.9\n",
      "...                 ...   ...  ...\n",
      "41099  2024-01-31 19:00   1.4  4.6\n",
      "41100  2024-01-31 20:00   1.7  6.6\n",
      "41101  2024-01-31 21:00   1.6  8.9\n",
      "41102  2024-01-31 22:00   1.2  7.7\n",
      "41103  2024-01-31 23:00     1  7.2\n",
      "\n",
      "[41104 rows x 3 columns]\n"
     ]
    }
   ],
   "source": [
    "df_C['DS'] = pd.to_datetime(df_C['DS'])\n",
    "df_C['DS'] = df_C['DS'].dt.strftime('%Y-%m-%d %H:%M')\n",
    "df_C.to_excel('C.xlsx', index=False)\n",
    "print(df_C)"
   ]
  },
  {
   "cell_type": "markdown",
   "metadata": {},
   "source": []
  },
  {
   "cell_type": "markdown",
   "metadata": {},
   "source": [
    "Edellä olevat voidaan myös todentaa tarkastelemalla muutujien tilastollisia tietoja. Jokaisella muuttujalla on variaatiota. (std <> 0 )"
   ]
  },
  {
   "cell_type": "code",
   "execution_count": 188,
   "metadata": {},
   "outputs": [
    {
     "data": {
      "text/html": [
       "<div>\n",
       "<style scoped>\n",
       "    .dataframe tbody tr th:only-of-type {\n",
       "        vertical-align: middle;\n",
       "    }\n",
       "\n",
       "    .dataframe tbody tr th {\n",
       "        vertical-align: top;\n",
       "    }\n",
       "\n",
       "    .dataframe thead th {\n",
       "        text-align: right;\n",
       "    }\n",
       "</style>\n",
       "<table border=\"1\" class=\"dataframe\">\n",
       "  <thead>\n",
       "    <tr style=\"text-align: right;\">\n",
       "      <th></th>\n",
       "      <th>C</th>\n",
       "    </tr>\n",
       "  </thead>\n",
       "  <tbody>\n",
       "    <tr>\n",
       "      <th>count</th>\n",
       "      <td>41080.000000</td>\n",
       "    </tr>\n",
       "    <tr>\n",
       "      <th>mean</th>\n",
       "      <td>6.848398</td>\n",
       "    </tr>\n",
       "    <tr>\n",
       "      <th>std</th>\n",
       "      <td>9.385970</td>\n",
       "    </tr>\n",
       "    <tr>\n",
       "      <th>min</th>\n",
       "      <td>-26.000000</td>\n",
       "    </tr>\n",
       "    <tr>\n",
       "      <th>25%</th>\n",
       "      <td>0.300000</td>\n",
       "    </tr>\n",
       "    <tr>\n",
       "      <th>50%</th>\n",
       "      <td>6.200000</td>\n",
       "    </tr>\n",
       "    <tr>\n",
       "      <th>75%</th>\n",
       "      <td>14.100000</td>\n",
       "    </tr>\n",
       "    <tr>\n",
       "      <th>max</th>\n",
       "      <td>32.400000</td>\n",
       "    </tr>\n",
       "  </tbody>\n",
       "</table>\n",
       "</div>"
      ],
      "text/plain": [
       "                  C\n",
       "count  41080.000000\n",
       "mean       6.848398\n",
       "std        9.385970\n",
       "min      -26.000000\n",
       "25%        0.300000\n",
       "50%        6.200000\n",
       "75%       14.100000\n",
       "max       32.400000"
      ]
     },
     "execution_count": 188,
     "metadata": {},
     "output_type": "execute_result"
    }
   ],
   "source": [
    "df_C.describe()"
   ]
  },
  {
   "cell_type": "markdown",
   "metadata": {},
   "source": [
    "Lämpötiladata näyttää olevan on OK. "
   ]
  }
 ],
 "metadata": {
  "kernelspec": {
   "display_name": "base",
   "language": "python",
   "name": "python3"
  },
  "language_info": {
   "codemirror_mode": {
    "name": "ipython",
    "version": 3
   },
   "file_extension": ".py",
   "mimetype": "text/x-python",
   "name": "python",
   "nbconvert_exporter": "python",
   "pygments_lexer": "ipython3",
   "version": "3.11.5"
  }
 },
 "nbformat": 4,
 "nbformat_minor": 4
}
